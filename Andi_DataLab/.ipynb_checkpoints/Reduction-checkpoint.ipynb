{
 "cells": [
  {
   "cell_type": "code",
   "execution_count": 1,
   "metadata": {},
   "outputs": [],
   "source": [
    "import numpy as np\n",
    "import matplotlib\n",
    "import matplotlib.pyplot as plt\n",
    "from matplotlib.axes import Axes, Subplot\n",
    "\n",
    "import ccdproc\n",
    "import photutils\n",
    "import glob\n",
    "import astropy\n",
    "\n",
    "from astropy import units as u\n",
    "from astropy import stats\n",
    "\n",
    "from astropy.io import ascii\n",
    "import astropy.io.fits as fits\n",
    "from astropy.wcs import WCS\n",
    "from astropy.visualization import make_lupton_rgb\n",
    "from astropy.nddata import CCDData, NDData, VarianceUncertainty\n",
    "from astropy.modeling import models\n",
    "\n",
    "\n",
    "#import matplotlib.pyplot.subplots as subplots\n",
    "\n",
    "from ccdproc import ImageFileCollection, Combiner\n",
    "from astropy.nddata import NDData, NDArithmeticMixin"
   ]
  },
  {
   "cell_type": "code",
   "execution_count": 2,
   "metadata": {},
   "outputs": [],
   "source": [
    "wolf1_file = '/home/andibergeson/Desktop/Astro480/DataLab/Wolf1346/data/wolf1346_.0001.fits'\n",
    "flat_list = glob.glob('/home/andibergeson/Desktop/Astro480/DataLab/Wolf1346/flats/*.fits')\n",
    "bias_list = glob.glob('/home/andibergeson/Desktop/Astro480/DataLab/Wolf1346/bias/*.fits')\n",
    "\n",
    "#hdulist = ccd_masked.to_hdu()\n",
    "\n",
    "#image1 = CCDData.read(‘/home/andibergeson/Desktop/Astro480/DataLab/Wolf1346/data/wolf1346_.0001.fits’,unit=”electron”)\n",
    "#image2 = CCDData.read(‘/home/andibergeson/Desktop/Astro480/DataLab/Wolf1346/data/wolf1346_.0002.fits’,unit=”electron”)\n",
    "#image3 = CCDData.read(‘/home/andibergeson/Desktop/Astro480/DataLab/Wolf1346/data/wolf1346_.0003.fits’,unit=”electron”)\n",
    "#image4 = CCDData.read(‘/home/andibergeson/Desktop/Astro480/DataLab/Wolf1346/data/wolf1346_m.0001.fits’,unit=”electron”)\n",
    "\n",
    "#wolf_all = Combiner([image1, image2, image3, image4])"
   ]
  },
  {
   "cell_type": "code",
   "execution_count": 3,
   "metadata": {},
   "outputs": [
    {
     "name": "stdout",
     "output_type": "stream",
     "text": [
      "The image has a shape [height,width] of (2050, 2102)\n",
      "The image is made up of data of type uint16\n",
      " \n"
     ]
    },
    {
     "name": "stderr",
     "output_type": "stream",
     "text": [
      "WARNING: FITSFixedWarning: RADECSYS= 'FK5' / Coordinate system, per TCC ObjSys \n",
      "the RADECSYS keyword is deprecated, use RADESYSa. [astropy.wcs.wcs]\n"
     ]
    }
   ],
   "source": [
    "wolf1 = CCDData.read(wolf1_file, unit=\"adu\")\n",
    "\n",
    "print(\"The image has a shape [height,width] of {0}\".format(wolf1.shape))\n",
    "print(\"The image is made up of data of type {0}\".format(wolf1.dtype))\n",
    "print(\" \")\n",
    "#print(repr(wolf1.header))"
   ]
  },
  {
   "cell_type": "code",
   "execution_count": 4,
   "metadata": {},
   "outputs": [
    {
     "name": "stdout",
     "output_type": "stream",
     "text": [
      "Bias counts (mean): 351.58\n",
      "\n",
      "Bias counts (mean): 351.69\n",
      "\n",
      "Bias counts (mean): 351.68\n",
      "\n",
      "Bias counts (mean): 351.40\n",
      "\n",
      "Bias counts (mean): 351.65\n",
      "\n",
      "Bias counts (mean): 351.68\n",
      "\n",
      "Bias counts (mean): 351.36\n",
      "\n",
      "Bias counts (mean): 351.74\n",
      "\n",
      "Bias counts (mean): 351.71\n",
      "\n",
      "Bias counts (mean): 351.70\n",
      "\n",
      "Bias counts (mean): 351.50\n",
      "\n",
      "Master bias count: 351.61\n",
      "\n",
      "[351.57523125 351.69432573 351.67511638 351.40129447 351.65315008\n",
      " 351.67762201 351.35681395 351.73834583 351.71165371 351.7035432\n",
      " 351.49990439]\n"
     ]
    }
   ],
   "source": [
    "# These are empty lists (arrays) to store the mean counts\n",
    "means_bias = []\n",
    "\n",
    "for filename in bias_list:\n",
    "    # Open the FITS file\n",
    "    hdu_bias = fits.open(filename)\n",
    "    \n",
    "    mean_counts = np.mean(hdu_bias[0].data)\n",
    "    print('Bias counts (mean): {:.2f}\\n'.format(mean_counts))\n",
    "    means_bias.append(mean_counts)\n",
    "\n",
    "# Convert to Numpy arrays so they can be sorted\n",
    "means_bias = np.array(means_bias)\n",
    "meanest_bias = np.mean(means_bias)\n",
    "print('Master bias count: {:.2f}\\n'.format(meanest_bias))\n",
    "print(means_bias)"
   ]
  },
  {
   "cell_type": "code",
   "execution_count": 5,
   "metadata": {},
   "outputs": [],
   "source": [
    "icl_bias = ImageFileCollection('/home/andibergeson/Desktop/Astro480/DataLab/Wolf1346/bias/', keywords='*')"
   ]
  },
  {
   "cell_type": "code",
   "execution_count": 6,
   "metadata": {},
   "outputs": [],
   "source": [
    "bias_data = []\n",
    "for hdu, fname in icl_bias.hdus(imagetyp='bias', return_fname=True):\n",
    "    meta = hdu.header\n",
    "    meta['filename'] = fname\n",
    "    bias_data.append(ccdproc.CCDData(data=hdu.data, meta=meta, unit=\"adu\"))\n",
    "\n",
    "\n",
    "#bias_data = [CCDData.read(filename, unit=\"adu\") for filename in bias_list]"
   ]
  },
  {
   "cell_type": "code",
   "execution_count": 7,
   "metadata": {},
   "outputs": [],
   "source": [
    "c_bias = Combiner(bias_data)\n",
    "master_bias = c_bias.average_combine()"
   ]
  },
  {
   "cell_type": "code",
   "execution_count": 8,
   "metadata": {},
   "outputs": [],
   "source": [
    "poly_model = models.Polynomial1D(1)\n",
    "\n",
    "oscan_subtracted = ccdproc.subtract_overscan(master_bias,overscan=master_bias[:, 200:],overscan_axis=1,model=poly_model)"
   ]
  },
  {
   "cell_type": "code",
   "execution_count": 18,
   "metadata": {},
   "outputs": [],
   "source": [
    "            #this cell doesnt work... must do it the hard way\n",
    "\n",
    "#flat_data = [CCDData.read(filename, unit=\"adu\") for filename in flat_list]\n",
    "#icl_flats = ImageFileCollection('/home/andibergeson/Desktop/Astro480/DataLab/Wolf1346/flats/', keywords='*')"
   ]
  },
  {
   "cell_type": "code",
   "execution_count": 9,
   "metadata": {},
   "outputs": [
    {
     "name": "stdout",
     "output_type": "stream",
     "text": [
      "Used the J-C Rc filter, for 4.0 sec\n",
      "Used the Wash M filter, for 3.0 sec\n",
      "Used the Wash M filter, for 3.0 sec\n",
      "Used the J-C Rc filter, for 4.0 sec\n",
      "Used the Wash M filter, for 3.0 sec\n",
      "Used the J-C Rc filter, for 4.0 sec\n",
      "Used the J-C Rc filter, for 4.0 sec\n",
      "Used the J-C Rc filter, for 4.0 sec\n",
      "Used the Wash M filter, for 3.0 sec\n",
      "Used the J-C Rc filter, for 4.0 sec\n",
      "Used the J-C Rc filter, for 2.0 sec\n",
      "Used the J-C Rc filter, for 4.0 sec\n",
      "Used the Wash M filter, for 3.0 sec\n",
      "Used the J-C Rc filter, for 4.0 sec\n",
      "Used the Wash M filter, for 3.0 sec\n",
      "Used the J-C Rc filter, for 4.0 sec\n",
      "Used the J-C Rc filter, for 10.0 sec\n",
      "Used the J-C Rc filter, for 4.0 sec\n",
      "Used the J-C Rc filter, for 1.0 sec\n",
      "Used the J-C Rc filter, for 4.0 sec\n",
      "Used the J-C Rc filter, for 3.0 sec\n",
      "Used the J-C Rc filter, for 4.0 sec\n",
      "Used the J-C Rc filter, for 3.0 sec\n",
      "Used the J-C Rc filter, for 4.0 sec\n",
      "Used the J-C Rc filter, for 4.0 sec\n",
      "Used the Wash M filter, for 3.0 sec\n",
      "Used the J-C Rc filter, for 4.0 sec\n",
      "Used the J-C Rc filter, for 4.0 sec\n",
      "Used the J-C Rc filter, for 4.0 sec\n",
      "Used the Wash M filter, for 3.0 sec\n",
      "Used the Wash M filter, for 3.0 sec\n",
      "Used the Wash M filter, for 3.0 sec\n",
      "Used the J-C Rc filter, for 4.0 sec\n",
      "Used the Wash M filter, for 3.0 sec\n",
      "Used the Wash M filter, for 3.0 sec\n",
      "Used the J-C Rc filter, for 4.0 sec\n",
      "Used the J-C Rc filter, for 4.0 sec\n"
     ]
    }
   ],
   "source": [
    "# These are empty lists (arrays) to store the exposure times and mean counts\n",
    "exp_times = []\n",
    "fil = []\n",
    "means = []\n",
    "flat_data = []\n",
    "\n",
    "for filename in flat_list:\n",
    "    # Open the FITS file\n",
    "    #betterlist = find_all_wcs(header, relax=True, keysel=None, fix=True, translate_units='', _do_set=True)\n",
    "    hdu = fits.open(filename)\n",
    "    \n",
    "    mean_counts = np.mean(hdu[0].data)\n",
    "    means.append(mean_counts)\n",
    "    \n",
    "    exptime = hdu[0].header['exptime']\n",
    "    exp_times.append(exptime)\n",
    "    \n",
    "    filters = hdu[0].header['filter']\n",
    "    fil.append(filters)\n",
    "    \n",
    "    print('Used the {0:} filter, for {1:} sec'.format(filters,exptime))\n",
    "    \n",
    "    meta = hdu[0].header\n",
    "    flat_data.append(ccdproc.CCDData(data=hdu[0].data, meta=meta, unit=\"adu\"))\n",
    "\n",
    "# Convert to Numpy arrays so they can be sorted\n",
    "exp_times = np.array(exp_times)\n",
    "fil = np.array(fil)\n",
    "means = np.array(means)\n",
    "#flat_data = np.array(flat_data)\n",
    "\n",
    "#means = means[time_sort]"
   ]
  },
  {
   "cell_type": "code",
   "execution_count": 10,
   "metadata": {},
   "outputs": [
    {
     "ename": "MemoryError",
     "evalue": "",
     "output_type": "error",
     "traceback": [
      "\u001b[0;31m---------------------------------------------------------------------------\u001b[0m",
      "\u001b[0;31mMemoryError\u001b[0m                               Traceback (most recent call last)",
      "\u001b[0;32m<ipython-input-10-c5cf51bc5679>\u001b[0m in \u001b[0;36m<module>\u001b[0;34m\u001b[0m\n\u001b[1;32m      2\u001b[0m \u001b[0;34m\u001b[0m\u001b[0m\n\u001b[1;32m      3\u001b[0m \u001b[0mc_flat\u001b[0m \u001b[0;34m=\u001b[0m \u001b[0mCombiner\u001b[0m\u001b[0;34m(\u001b[0m\u001b[0mflat_data\u001b[0m\u001b[0;34m)\u001b[0m\u001b[0;34m\u001b[0m\u001b[0;34m\u001b[0m\u001b[0m\n\u001b[0;32m----> 4\u001b[0;31m \u001b[0mmaster_flat\u001b[0m \u001b[0;34m=\u001b[0m \u001b[0mc_flat\u001b[0m\u001b[0;34m.\u001b[0m\u001b[0maverage_combine\u001b[0m\u001b[0;34m(\u001b[0m\u001b[0;34m)\u001b[0m\u001b[0;34m\u001b[0m\u001b[0;34m\u001b[0m\u001b[0m\n\u001b[0m\u001b[1;32m      5\u001b[0m \u001b[0;34m\u001b[0m\u001b[0m\n\u001b[1;32m      6\u001b[0m \u001b[0;34m\u001b[0m\u001b[0m\n",
      "\u001b[0;32m~/anaconda2/envs/myenv/lib/python3.6/site-packages/ccdproc/combiner.py\u001b[0m in \u001b[0;36maverage_combine\u001b[0;34m(self, scale_func, scale_to, uncertainty_func)\u001b[0m\n\u001b[1;32m    424\u001b[0m \u001b[0;34m\u001b[0m\u001b[0m\n\u001b[1;32m    425\u001b[0m         \u001b[0;31m# set up the data\u001b[0m\u001b[0;34m\u001b[0m\u001b[0;34m\u001b[0m\u001b[0;34m\u001b[0m\u001b[0m\n\u001b[0;32m--> 426\u001b[0;31m         data, wei = scale_func(scalings * self.data_arr,\n\u001b[0m\u001b[1;32m    427\u001b[0m                                \u001b[0maxis\u001b[0m\u001b[0;34m=\u001b[0m\u001b[0;36m0\u001b[0m\u001b[0;34m,\u001b[0m \u001b[0mweights\u001b[0m\u001b[0;34m=\u001b[0m\u001b[0mself\u001b[0m\u001b[0;34m.\u001b[0m\u001b[0mweights\u001b[0m\u001b[0;34m,\u001b[0m\u001b[0;34m\u001b[0m\u001b[0;34m\u001b[0m\u001b[0m\n\u001b[1;32m    428\u001b[0m                                returned=True)\n",
      "\u001b[0;32m~/anaconda2/envs/myenv/lib/python3.6/site-packages/numpy/ma/core.py\u001b[0m in \u001b[0;36m__rmul__\u001b[0;34m(self, other)\u001b[0m\n\u001b[1;32m   4105\u001b[0m         \u001b[0;31m# In analogy with __rsub__ and __rdiv__, use original order:\u001b[0m\u001b[0;34m\u001b[0m\u001b[0;34m\u001b[0m\u001b[0;34m\u001b[0m\u001b[0m\n\u001b[1;32m   4106\u001b[0m         \u001b[0;31m# we get here from `other * self`.\u001b[0m\u001b[0;34m\u001b[0m\u001b[0;34m\u001b[0m\u001b[0;34m\u001b[0m\u001b[0m\n\u001b[0;32m-> 4107\u001b[0;31m         \u001b[0;32mreturn\u001b[0m \u001b[0mmultiply\u001b[0m\u001b[0;34m(\u001b[0m\u001b[0mother\u001b[0m\u001b[0;34m,\u001b[0m \u001b[0mself\u001b[0m\u001b[0;34m)\u001b[0m\u001b[0;34m\u001b[0m\u001b[0;34m\u001b[0m\u001b[0m\n\u001b[0m\u001b[1;32m   4108\u001b[0m \u001b[0;34m\u001b[0m\u001b[0m\n\u001b[1;32m   4109\u001b[0m     \u001b[0;32mdef\u001b[0m \u001b[0m__div__\u001b[0m\u001b[0;34m(\u001b[0m\u001b[0mself\u001b[0m\u001b[0;34m,\u001b[0m \u001b[0mother\u001b[0m\u001b[0;34m)\u001b[0m\u001b[0;34m:\u001b[0m\u001b[0;34m\u001b[0m\u001b[0;34m\u001b[0m\u001b[0m\n",
      "\u001b[0;32m~/anaconda2/envs/myenv/lib/python3.6/site-packages/numpy/ma/core.py\u001b[0m in \u001b[0;36m__call__\u001b[0;34m(self, a, b, *args, **kwargs)\u001b[0m\n\u001b[1;32m   1016\u001b[0m         \u001b[0;32mwith\u001b[0m \u001b[0mnp\u001b[0m\u001b[0;34m.\u001b[0m\u001b[0merrstate\u001b[0m\u001b[0;34m(\u001b[0m\u001b[0;34m)\u001b[0m\u001b[0;34m:\u001b[0m\u001b[0;34m\u001b[0m\u001b[0;34m\u001b[0m\u001b[0m\n\u001b[1;32m   1017\u001b[0m             \u001b[0mnp\u001b[0m\u001b[0;34m.\u001b[0m\u001b[0mseterr\u001b[0m\u001b[0;34m(\u001b[0m\u001b[0mdivide\u001b[0m\u001b[0;34m=\u001b[0m\u001b[0;34m'ignore'\u001b[0m\u001b[0;34m,\u001b[0m \u001b[0minvalid\u001b[0m\u001b[0;34m=\u001b[0m\u001b[0;34m'ignore'\u001b[0m\u001b[0;34m)\u001b[0m\u001b[0;34m\u001b[0m\u001b[0;34m\u001b[0m\u001b[0m\n\u001b[0;32m-> 1018\u001b[0;31m             \u001b[0mresult\u001b[0m \u001b[0;34m=\u001b[0m \u001b[0mself\u001b[0m\u001b[0;34m.\u001b[0m\u001b[0mf\u001b[0m\u001b[0;34m(\u001b[0m\u001b[0mda\u001b[0m\u001b[0;34m,\u001b[0m \u001b[0mdb\u001b[0m\u001b[0;34m,\u001b[0m \u001b[0;34m*\u001b[0m\u001b[0margs\u001b[0m\u001b[0;34m,\u001b[0m \u001b[0;34m**\u001b[0m\u001b[0mkwargs\u001b[0m\u001b[0;34m)\u001b[0m\u001b[0;34m\u001b[0m\u001b[0;34m\u001b[0m\u001b[0m\n\u001b[0m\u001b[1;32m   1019\u001b[0m         \u001b[0;31m# Get the mask for the result\u001b[0m\u001b[0;34m\u001b[0m\u001b[0;34m\u001b[0m\u001b[0;34m\u001b[0m\u001b[0m\n\u001b[1;32m   1020\u001b[0m         \u001b[0;34m(\u001b[0m\u001b[0mma\u001b[0m\u001b[0;34m,\u001b[0m \u001b[0mmb\u001b[0m\u001b[0;34m)\u001b[0m \u001b[0;34m=\u001b[0m \u001b[0;34m(\u001b[0m\u001b[0mgetmask\u001b[0m\u001b[0;34m(\u001b[0m\u001b[0ma\u001b[0m\u001b[0;34m)\u001b[0m\u001b[0;34m,\u001b[0m \u001b[0mgetmask\u001b[0m\u001b[0;34m(\u001b[0m\u001b[0mb\u001b[0m\u001b[0;34m)\u001b[0m\u001b[0;34m)\u001b[0m\u001b[0;34m\u001b[0m\u001b[0;34m\u001b[0m\u001b[0m\n",
      "\u001b[0;31mMemoryError\u001b[0m: "
     ]
    }
   ],
   "source": [
    "            #this cell would work if we were given flats that had correct coordinates\n",
    "\n",
    "c_flat = Combiner(flat_data)\n",
    "master_flat = c_flat.average_combine()\n",
    "\n",
    "\n",
    "noise = add(master_bias, operand2=oscan_subtracted, **kwargs)\n",
    "nonbias_wolf=subtract(wolf1, operand2=noise, **kwargs)\n",
    "\n",
    "\n",
    "clean_wolf = ccdproc.flat_correct(nonbias_wolf, master_flat)"
   ]
  },
  {
   "cell_type": "code",
   "execution_count": 11,
   "metadata": {},
   "outputs": [
    {
     "data": {
      "text/plain": [
       "Text(99.125, 0.5, 'Declination (J2000)')"
      ]
     },
     "execution_count": 11,
     "metadata": {},
     "output_type": "execute_result"
    },
    {
     "data": {
      "image/png": "[encoded data removed]",
      "text/plain": [
       "<Figure size 1008x432 with 1 Axes>"
      ]
     },
     "metadata": {
      "needs_background": "light"
     },
     "output_type": "display_data"
    }
   ],
   "source": [
    "fig = plt.figure()\n",
    "\n",
    "ax1 = fig.add_subplot(121)\n",
    "\n",
    "fig.set_size_inches(14,6)\n",
    "fig.tight_layout()\n",
    "\n",
    "ax1.imshow(wolf1, origin='lower', cmap=plt.cm.gray)\n",
    "ax1.grid(color='y', ls='-')\n",
    "ax1.set_xlabel('Right Ascension (J2000)')\n",
    "ax1.set_ylabel('Declination (J2000)')"
   ]
  },
  {
   "cell_type": "code",
   "execution_count": null,
   "metadata": {},
   "outputs": [],
   "source": [
    "#this cell represents the hrs i spent trying to fix the header keyword that made icl unable to parse \n",
    "        #through the fits cards CD_1 and CD_2\n",
    "\n",
    "    \n",
    "#hdu = wolf1.to_hdu()\n",
    "#hdu.verify('fix')\n",
    "\n",
    "#keys = ['exptime','filter','imagetyp']\n",
    "#ic1_flats = ImageFileCollection('/home/andibergeson/Desktop/Astro480/DataLab/Wolf1346/flats/', keywords=keys)\n",
    "#icl_wolf = uImageFileCollection('/home/andibergeson/Desktop/Astro480/DataLab/Wolf1346/data/', keywords=keys)\n",
    "\n",
    "#ic1.summary.colnames"
   ]
  }
 ],
 "metadata": {
  "kernelspec": {
   "display_name": "Python 3",
   "language": "python",
   "name": "python3"
  },
  "language_info": {
   "codemirror_mode": {
    "name": "ipython",
    "version": 3
   },
   "file_extension": ".py",
   "mimetype": "text/x-python",
   "name": "python",
   "nbconvert_exporter": "python",
   "pygments_lexer": "ipython3",
   "version": "3.6.8"
  }
 },
 "nbformat": 4,
 "nbformat_minor": 2
}
