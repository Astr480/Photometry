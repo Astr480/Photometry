{
 "cells": [
  {
   "cell_type": "code",
   "execution_count": null,
   "metadata": {},
   "outputs": [],
   "source": [
    "# Ioana Alexandra Mititean\n",
    "# Reducing Imaging Data\n",
    "# ASTR 480"
   ]
  },
  {
   "cell_type": "code",
   "execution_count": 1,
   "metadata": {},
   "outputs": [],
   "source": [
    "from astropy.io import fits\n",
    "import numpy as np\n",
    "import matplotlib.pyplot as plt\n",
    "import glob"
   ]
  },
  {
   "cell_type": "code",
   "execution_count": 2,
   "metadata": {},
   "outputs": [],
   "source": [
    "bias_list = [line.rstrip('\\n') for line in open(\"input_bias.txt\")] "
   ]
  },
  {
   "cell_type": "code",
   "execution_count": 52,
   "metadata": {},
   "outputs": [],
   "source": [
    "# Combining bias frames and printing the mean values for all frames and the combined frame\n",
    "\n",
    "data_stack = []\n",
    "for file in bias_list:\n",
    "    file_data = fits.getdata(file).astype(np.int32)\n",
    "    data_stack.append(file_data)\n",
    "    #print(\"Mean value for \" + file + \": \" + str(np.mean(file_data)))\n",
    "    \n",
    "meanBias = np.mean(data_stack, axis=0)\n",
    "header = fits.getheader(bias_list[0])\n",
    "header['HISTORY'] = 'Mean combined'\n",
    "#fits.writeto('master_bias_mean.fits', meanBias, header) \n",
    "\n",
    "master_data = fits.getdata(\"master_bias_mean.fits\").astype(np.int32)\n",
    "#print(\"Mean value for master bias: \" + str(np.mean(master_data)))"
   ]
  },
  {
   "cell_type": "code",
   "execution_count": 8,
   "metadata": {},
   "outputs": [],
   "source": [
    "# Putting all flat and science frames into a single list\n",
    "image_list = glob.glob('flat*.fits')\n",
    "wolf_list = glob.glob('wolf*.fits')\n",
    "for file in wolf_list:\n",
    "    image_list.append(file)\n",
    "   "
   ]
  },
  {
   "cell_type": "code",
   "execution_count": 9,
   "metadata": {},
   "outputs": [],
   "source": [
    "# Removing the bias from all flat field images and wolf1346 frames\n",
    "datafilesout = [line.rstrip(\"\\n\") for line in open(\"output_no_bias.txt\")]\n",
    "list_length = len(image_list)\n",
    "for i in range(0, list_length): \n",
    "    data, header = fits.getdata(image_list[i], header = True)\n",
    "    data_out = data - meanBias\n",
    "    header['HISTORY'] = 'Bias subtracted'\n",
    "    \n",
    "    # I tried to fix the program refusal to write to the output files (because of some \n",
    "    # cards in the image file headers that read 'NAN'); forcing the program to ignore\n",
    "    # the non-standard format seemed to work,and I find it okay to use because I don't \n",
    "    #need the 'CD*_*' cards for this assignment. The 'fixed' line is written below \n",
    "    # (commented out)\n",
    "    \n",
    "    #fits.writeto(datafilesout[i], data_out, header, output_verify = 'ignore')"
   ]
  },
  {
   "cell_type": "code",
   "execution_count": 50,
   "metadata": {},
   "outputs": [],
   "source": [
    "# Printing out the filter names for each flat image file (optional - helped me see at a glance which\n",
    "# types of filters each flat was used with)\n",
    "flat_list = image_list\n",
    "for flat in flat_list:\n",
    "    header = fits.getheader(flat)\n",
    "    #print(\"Filter name for \" + flat + \": \" + header['FILTER'])\n"
   ]
  },
  {
   "cell_type": "code",
   "execution_count": 38,
   "metadata": {},
   "outputs": [
    {
     "name": "stderr",
     "output_type": "stream",
     "text": [
      "WARNING: VerifyWarning: Verification reported errors: [astropy.io.fits.verify]\n",
      "WARNING: VerifyWarning: Card 'CD1_1' is not FITS standard (invalid value string: '+NAN                 / WCS (1/InstScaleX)*cos(InstAng)').  Fixed 'CD1_1' card to meet the FITS standard. [astropy.io.fits.verify]\n",
      "WARNING: VerifyWarning: Note: astropy.io.fits uses zero-based indexing.\n",
      " [astropy.io.fits.verify]\n",
      "WARNING: VerifyWarning: Card 'CD1_2' is not FITS standard (invalid value string: '+NAN                 / WCS (1/InstScaleY)*sin(InstAng)').  Fixed 'CD1_2' card to meet the FITS standard. [astropy.io.fits.verify]\n",
      "WARNING: VerifyWarning: Card 'CD2_1' is not FITS standard (invalid value string: '+NAN                 / WCS (-1/(InstScaleX)*sin(InstAng)').  Fixed 'CD2_1' card to meet the FITS standard. [astropy.io.fits.verify]\n",
      "WARNING: VerifyWarning: Card 'CD2_2' is not FITS standard (invalid value string: '+NAN                 / WCS (1/InstScaleY)*cos(InstAng)').  Fixed 'CD2_2' card to meet the FITS standard. [astropy.io.fits.verify]\n"
     ]
    }
   ],
   "source": [
    "# Reading in lists for each type of filter\n",
    "washmflatfiles = [line.rstrip(\"\\n\") for line in open(\"washm_flats_input.txt\")]\n",
    "jcrcflatfiles = [line.rstrip(\"\\n\") for line in open(\"jc-rc_flats_input.txt\")]\n",
    "\n",
    "# Scale each image in each filter list by its median\n",
    "washmflat_stack = []\n",
    "for file in washmflatfiles: \n",
    "    data,header = fits.getdata(file,header=True)\n",
    "    data = data / np.median(data)\n",
    "    washmflat_stack.append(data)\n",
    "    \n",
    "washmflat = np.median(washmflat_stack,axis=0)\n",
    "m = np.mean(washmflat)\n",
    "washmflat = washmflat/m\n",
    "    \n",
    "header[\"HISTORY\"] = \"Combined and normalized flat field\"\n",
    "fits.writeto(\"washmflat.fits\", washmflat, header, output_verify = 'ignore') \n",
    "    \n",
    "jcrcflat_stack = []\n",
    "for file in jcrcflatfiles: \n",
    "    data,header = fits.getdata(file,header=True)\n",
    "    data = data / np.median(data)\n",
    "    jcrcflat_stack.append(data)\n",
    "\n",
    "jcrcflat = np.median(jcrcflat_stack,axis=0)\n",
    "m = np.mean(jcrcflat)\n",
    "jcrcflat = jcrcflat/m\n",
    "\n",
    "header[\"HISTORY\"] = \"Combined and normalized flat field\"\n",
    "fits.writeto(\"jcrcflat.fits\", jcrcflat, header, output_verify = 'ignore') "
   ]
  },
  {
   "cell_type": "code",
   "execution_count": 49,
   "metadata": {},
   "outputs": [],
   "source": [
    "# Flat field data\n",
    "\n",
    "#Read in the lists of bias-subtracted data for the 'Wash M' filter\n",
    "washmdatain = [line.rstrip(\"\\n\") for line in open(\"washm_data_bs.txt\")]\n",
    "washmdataout = [line.rstrip(\"\\n\") for line in open(\"washm_data_frm.txt\")]\n",
    "\n",
    "# Divide each data image of the 'Wash M' filter by the normalized flat field of the 'Wash M' filter\n",
    "n=len(washmdatain)\n",
    "for i in range(0,n): \n",
    "    data,header = fits.getdata(washmdatain[i],header=True)\n",
    "    dataout = data / washmflat\n",
    "    header[\"HISTORY\"] = \"Flat Fielded\"\n",
    "    #fits.writeto(washmdataout[i], dataout, header, output_verify = 'ignore')\n",
    "    \n",
    "#Read in the lists of bias-subtracted data for the 'J-C Rc' filter\n",
    "jcrcdatain = [line.rstrip(\"\\n\") for line in open(\"jc-rc_data_bs.txt\")]\n",
    "jcrcdataout = [line.rstrip(\"\\n\") for line in open(\"jc-rc_data_frm.txt\")]\n",
    "\n",
    "# Divide each data image of the 'J-C Rc' filter by the normalized flat field of the 'J-C Rc' filter\n",
    "n=len(jcrcdatain)\n",
    "for i in range(0,n): \n",
    "    data,header = fits.getdata(jcrcdatain[i],header=True)\n",
    "    dataout = data / jcrcflat\n",
    "    header[\"HISTORY\"] = \"Flat Fielded\"\n",
    "    #fits.writeto(jcrcdataout[i], dataout, header, output_verify = 'ignore')"
   ]
  },
  {
   "cell_type": "code",
   "execution_count": null,
   "metadata": {},
   "outputs": [],
   "source": []
  }
 ],
 "metadata": {
  "kernelspec": {
   "display_name": "Python 3",
   "language": "python",
   "name": "python3"
  },
  "language_info": {
   "codemirror_mode": {
    "name": "ipython",
    "version": 3
   },
   "file_extension": ".py",
   "mimetype": "text/x-python",
   "name": "python",
   "nbconvert_exporter": "python",
   "pygments_lexer": "ipython3",
   "version": "3.6.8"
  }
 },
 "nbformat": 4,
 "nbformat_minor": 2
}
